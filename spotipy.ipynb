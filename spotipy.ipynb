{
 "cells": [
  {
   "cell_type": "code",
   "execution_count": 1,
   "metadata": {},
   "outputs": [],
   "source": [
    "# require to wrap all our import libraries within the spotify function \n",
    "from airflow.decorators import dag, task\n",
    "from airflow import DAG\n",
    "from datetime import datetime\n",
    "from datetime import timedelta\n",
    "from airflow.operators.python import PythonOperator, BranchPythonOperator\n",
    "from airflow.operators.bash import BashOperator\n",
    "from airflow.utils.dates import days_ago \n",
    "import pathlib\n",
    "import pandas as pd \n",
    "import sqlalchemy \n",
    "import configparser as ConfigParser\n",
    "import spotipy\n",
    "from spotipy.oauth2 import SpotifyOAuth"
   ]
  },
  {
   "cell_type": "code",
   "execution_count": 2,
   "metadata": {},
   "outputs": [
    {
     "data": {
      "text/plain": [
       "'1.4.27'"
      ]
     },
     "execution_count": 2,
     "metadata": {},
     "output_type": "execute_result"
    }
   ],
   "source": [
    "sqlalchemy.__version__"
   ]
  },
  {
   "cell_type": "code",
   "execution_count": 3,
   "metadata": {},
   "outputs": [],
   "source": [
    "def check_if_valid_data(df:pd.DataFrame):\n",
    "       # check if dataframe is empty, it means there were no songs listened to\n",
    "       if df.empty:\n",
    "           print('No songs downloaded. Finishing execution')\n",
    "           return False \n",
    "       # Primary key check \n",
    "       if pd.Series(df['played_at_list']).is_unique:       # this check helps us understand that there are no duplicate rows in our database\n",
    "           pass \n",
    "       else: \n",
    "           raise Exception(\"Primary Key check if violated\")  # here pipeline fail, maybe can send email to me\n",
    "       yesterday = datetime.now() - timedelta(days = 1)\n",
    "       # just check yesterday's date at 0 hour, 0 minute, 0 second and 0 microseconds\n",
    "       yesterday = yesterday.replace(hour = 0,minute = 0,second =0,microsecond =0 )\n",
    "       # timestamps = df['timestamps'].tolist()\n",
    "       df = df[df['timestamps']== yesterday.strftime(\"%Y-%m-%d\")]\n",
    "       songs_json= df.to_json()\n",
    "       # for timestamp in timestamps:\n",
    "       #     # strptime --> converts string to time\n",
    "       #      # if we catch records that are not yesterday, we want the pipeline to raise exception \n",
    "       #     if datetime.strptime(timestamp,\"%Y-%m-%d\")!= yesterday:\n",
    "       #         raise Exception(\"At least one of the songs does not come within last 24 hours\")\n",
    "       return songs_json"
   ]
  },
  {
   "cell_type": "code",
   "execution_count": 4,
   "metadata": {},
   "outputs": [],
   "source": [
    "def update_database(DB_LOCATION,json_data):\n",
    "        # start database\n",
    "        # if value:\n",
    "\n",
    "        songs_table = pd.read_json(json_data)\n",
    "\n",
    "        engine = sqlalchemy.create_engine(DB_LOCATION)\n",
    "        # conn = sqlite3.connect('james_played_tracks.sqlite')\n",
    "        # cursor = conn.cursor()            \n",
    "        sql_query = \"\"\"\n",
    "        CREATE TABLE IF NOT EXISTS james_played_tracks(\n",
    "            played_at_list VARCHAR(200), \n",
    "            timestamps VARCHAR(200),\n",
    "            artist_name VARCHAR(200), \n",
    "            song_names VARCHAR(200),\n",
    "            CONSTRAINT primary_key_constraint PRIMARY KEY (played_at_list)\n",
    "        )\n",
    "        \"\"\"\n",
    "        engine.execute(sql_query)\n",
    "        print(\"Opened database successfully\")  \n",
    "        # update database \n",
    "        try: \n",
    "            songs_table.to_sql(name = 'james_played_tracks',con = engine, if_exists= 'append',index = False)\n",
    "            print(\"New songs populated in database!\")\n",
    "        except: \n",
    "            print(\"Data already exists in database\")\n",
    "        # conn.close()\n",
    "        print(\"database closed successfully\")"
   ]
  },
  {
   "cell_type": "code",
   "execution_count": null,
   "metadata": {},
   "outputs": [],
   "source": []
  },
  {
   "cell_type": "markdown",
   "metadata": {},
   "source": [
    "## Spotipy documentation: \n",
    "\n",
    "https://spotipy.readthedocs.io/en/master/#"
   ]
  },
  {
   "cell_type": "code",
   "execution_count": 5,
   "metadata": {},
   "outputs": [],
   "source": [
    "redirect_uri = 'https://localhost:8888/callback/'\n",
    "scope= \"user-read-recently-played\""
   ]
  },
  {
   "cell_type": "code",
   "execution_count": 6,
   "metadata": {},
   "outputs": [],
   "source": [
    "current_directory = !pwd"
   ]
  },
  {
   "cell_type": "code",
   "execution_count": 7,
   "metadata": {},
   "outputs": [
    {
     "data": {
      "text/plain": [
       "['/home/maxong/spotify_airflow/configuration/config.ini']"
      ]
     },
     "execution_count": 7,
     "metadata": {},
     "output_type": "execute_result"
    }
   ],
   "source": [
    "# CURRENT_PATH_DIR= pathlib.Path(!pwd).absolute()\n",
    "GRANDPARENT_PATH = pathlib.Path(current_directory[0])\n",
    "CONF_PATH = GRANDPARENT_PATH.joinpath(\"configuration/config.ini\")\n",
    "cf_parser= ConfigParser.ConfigParser()\n",
    "cf_parser.read(CONF_PATH)\n"
   ]
  },
  {
   "cell_type": "code",
   "execution_count": 8,
   "metadata": {},
   "outputs": [],
   "source": [
    "    # TOKEN = cf_parser.get('spotify_details','token')\n",
    "WEBSITE = cf_parser.get('spotify_details','website')\n",
    "CLIENT_ID = cf_parser.get('spotify_details','client_id')\n",
    "CLIENT_SECRET = cf_parser.get('spotify_details','client_secret')\n",
    "REDIRECT_URL = cf_parser.get('spotify_details','redirect_url')\n",
    "SCOPE = cf_parser.get('spotify_details','scope')\n",
    "DB_LOCATION = cf_parser.get('database','db_location_postgres')"
   ]
  },
  {
   "cell_type": "code",
   "execution_count": 9,
   "metadata": {},
   "outputs": [],
   "source": [
    "config_dictionary = {\n",
    "'website':WEBSITE,\n",
    "'client_id':CLIENT_ID,\n",
    "'client_secret':CLIENT_SECRET,\n",
    "'redirect_url':REDIRECT_URL,\n",
    "'scope':SCOPE,\n",
    "'db_location':DB_LOCATION\n",
    "}"
   ]
  },
  {
   "cell_type": "markdown",
   "metadata": {},
   "source": [
    "## Following this stackoverflow to auto refresh the token \n",
    "\n",
    "https://stackoverflow.com/questions/48883731/refresh-token-spotipy#:~:text=So%20it%20will%20be%20refreshed,access%20token%20%2F%20refresh%20token%20previously.\n",
    "\n",
    "\n",
    "Direct link to spotipy utils to follow https://github.com/spotipy-dev/spotipy/blob/master/spotipy/util.py\n"
   ]
  },
  {
   "cell_type": "code",
   "execution_count": 10,
   "metadata": {},
   "outputs": [],
   "source": [
    "def create_spotify_api_details(config_dictionary):\n",
    "    auth_manager=SpotifyOAuth(scope=config_dictionary['scope'],\n",
    "                                client_id =config_dictionary['client_id'] ,\n",
    "                                client_secret = config_dictionary['client_secret'],\n",
    "                                redirect_uri = config_dictionary['redirect_url'])\n",
    "    spotify = spotipy.Spotify(auth_manager=auth_manager)\n",
    "    return auth_manager,spotify\n",
    "\n",
    "   "
   ]
  },
  {
   "cell_type": "code",
   "execution_count": 11,
   "metadata": {},
   "outputs": [],
   "source": [
    "def refresh_spotify_api_details(auth_manager, spotify,config_dictionary):\n",
    "   token_info = auth_manager.cache_handler.get_cached_token()\n",
    "   if auth_manager.is_token_expired(token_info):\n",
    "       auth_manager, spotify = create_spotify(config_dictionary)\n",
    "   return auth_manager, spotify"
   ]
  },
  {
   "cell_type": "code",
   "execution_count": 22,
   "metadata": {},
   "outputs": [],
   "source": [
    "today = datetime.now().replace(hour = 0,second = 0,minute =0,microsecond=0)\n",
    "# because everyday we want to see the songs we've listed to for the \n",
    "# previous 24 hrs\n",
    "yesterday = today - timedelta(days =1)\n",
    "# unix timestamp in miliseconds, that's why need to * 1000\n",
    "yesterday_unix_timestamp = int(yesterday.timestamp()) * 1000"
   ]
  },
  {
   "cell_type": "code",
   "execution_count": 23,
   "metadata": {},
   "outputs": [],
   "source": [
    "auth_manager,spotify = create_spotify_api_details(config_dictionary)"
   ]
  },
  {
   "cell_type": "code",
   "execution_count": 24,
   "metadata": {},
   "outputs": [],
   "source": [
    "auth_manager, spotify = refresh_spotify_api_details(auth_manager, spotify,config_dictionary)\n",
    "data = spotify.current_user_recently_played(after =yesterday_unix_timestamp)"
   ]
  },
  {
   "cell_type": "code",
   "execution_count": 29,
   "metadata": {},
   "outputs": [
    {
     "name": "stdout",
     "output_type": "stream",
     "text": [
      "2022-11-12\n",
      "2022-11-12\n",
      "2022-11-12\n",
      "2022-11-12\n",
      "2022-11-12\n",
      "2022-11-12\n",
      "2022-11-12\n",
      "2022-11-12\n",
      "2022-11-12\n",
      "2022-11-12\n",
      "2022-11-12\n",
      "2022-11-12\n",
      "2022-11-12\n",
      "2022-11-12\n",
      "2022-11-12\n",
      "2022-11-12\n",
      "2022-11-12\n",
      "2022-11-12\n"
     ]
    }
   ],
   "source": [
    "for i in data['items']:\n",
    "    print(i['played_at'][:10] )"
   ]
  },
  {
   "cell_type": "code",
   "execution_count": 30,
   "metadata": {},
   "outputs": [
    {
     "name": "stdout",
     "output_type": "stream",
     "text": [
      "Empty DataFrame\n",
      "Columns: [played_at_list, timestamps, artist_name, song_names]\n",
      "Index: []\n"
     ]
    }
   ],
   "source": [
    "while True:\n",
    "        auth_manager, spotify = refresh_spotify_api_details(auth_manager, spotify,config_dictionary)\n",
    "        data = spotify.current_user_recently_played(after =yesterday_unix_timestamp)\n",
    "\n",
    "        try:\n",
    "            # if python not equals to zero \n",
    "            if data['items'] != []:\n",
    "                artist_name = []\n",
    "                song_names = []\n",
    "                played_at_list = []\n",
    "                timestamps = []         \n",
    "                for i in data['items']:\n",
    "                    if i['played_at'][:10]!= today.strftime(\"%Y-%m-%d\"):\n",
    "                        song_names.append(i['track']['name'])\n",
    "                        played_at_list.append(i['played_at'])\n",
    "                        timestamps.append(i['played_at'][:10])\n",
    "                        artist_name.append(i['track']['artists'][0]['name'])            \n",
    "                # data is in dataframe format now\n",
    "                songs_table = pd.DataFrame([played_at_list,timestamps,artist_name,song_names]).T\n",
    "                songs_table.columns = ['played_at_list','timestamps','artist_name','song_names']            \n",
    "\n",
    "                # update database\n",
    "                # update_database(DB_LOCATION,songs_table)\n",
    "                print(songs_table)\n",
    "\n",
    "                # once you updated the database, break out of the loop\n",
    "                break\n",
    "            # if there are no data that day, don't even open up the database, skip that day    \n",
    "            else:\n",
    "                print(\"No songs played yesterday\")\n",
    "                # if there are no songs, break out \n",
    "                break \n",
    "        except:\n",
    "            print(\"Error with database or spotify data returned\")"
   ]
  },
  {
   "cell_type": "code",
   "execution_count": 31,
   "metadata": {},
   "outputs": [
    {
     "name": "stdout",
     "output_type": "stream",
     "text": [
      "No songs downloaded. Finishing execution\n"
     ]
    }
   ],
   "source": [
    "songs_json= check_if_valid_data(songs_table)"
   ]
  },
  {
   "cell_type": "code",
   "execution_count": 32,
   "metadata": {},
   "outputs": [
    {
     "ename": "ValueError",
     "evalue": "Invalid file path or buffer object type: <class 'bool'>",
     "output_type": "error",
     "traceback": [
      "\u001b[0;31m---------------------------------------------------------------------------\u001b[0m",
      "\u001b[0;31mValueError\u001b[0m                                Traceback (most recent call last)",
      "Cell \u001b[0;32mIn [32], line 1\u001b[0m\n\u001b[0;32m----> 1\u001b[0m songs_table \u001b[39m=\u001b[39m pd\u001b[39m.\u001b[39;49mread_json(songs_json)\n",
      "File \u001b[0;32m~/spotify_airflow/venv/lib/python3.8/site-packages/pandas/util/_decorators.py:211\u001b[0m, in \u001b[0;36mdeprecate_kwarg.<locals>._deprecate_kwarg.<locals>.wrapper\u001b[0;34m(*args, **kwargs)\u001b[0m\n\u001b[1;32m    209\u001b[0m     \u001b[39melse\u001b[39;00m:\n\u001b[1;32m    210\u001b[0m         kwargs[new_arg_name] \u001b[39m=\u001b[39m new_arg_value\n\u001b[0;32m--> 211\u001b[0m \u001b[39mreturn\u001b[39;00m func(\u001b[39m*\u001b[39;49margs, \u001b[39m*\u001b[39;49m\u001b[39m*\u001b[39;49mkwargs)\n",
      "File \u001b[0;32m~/spotify_airflow/venv/lib/python3.8/site-packages/pandas/util/_decorators.py:317\u001b[0m, in \u001b[0;36mdeprecate_nonkeyword_arguments.<locals>.decorate.<locals>.wrapper\u001b[0;34m(*args, **kwargs)\u001b[0m\n\u001b[1;32m    311\u001b[0m \u001b[39mif\u001b[39;00m \u001b[39mlen\u001b[39m(args) \u001b[39m>\u001b[39m num_allow_args:\n\u001b[1;32m    312\u001b[0m     warnings\u001b[39m.\u001b[39mwarn(\n\u001b[1;32m    313\u001b[0m         msg\u001b[39m.\u001b[39mformat(arguments\u001b[39m=\u001b[39marguments),\n\u001b[1;32m    314\u001b[0m         \u001b[39mFutureWarning\u001b[39;00m,\n\u001b[1;32m    315\u001b[0m         stacklevel\u001b[39m=\u001b[39mfind_stack_level(inspect\u001b[39m.\u001b[39mcurrentframe()),\n\u001b[1;32m    316\u001b[0m     )\n\u001b[0;32m--> 317\u001b[0m \u001b[39mreturn\u001b[39;00m func(\u001b[39m*\u001b[39;49margs, \u001b[39m*\u001b[39;49m\u001b[39m*\u001b[39;49mkwargs)\n",
      "File \u001b[0;32m~/spotify_airflow/venv/lib/python3.8/site-packages/pandas/io/json/_json.py:733\u001b[0m, in \u001b[0;36mread_json\u001b[0;34m(path_or_buf, orient, typ, dtype, convert_axes, convert_dates, keep_default_dates, numpy, precise_float, date_unit, encoding, encoding_errors, lines, chunksize, compression, nrows, storage_options)\u001b[0m\n\u001b[1;32m    730\u001b[0m \u001b[39mif\u001b[39;00m convert_axes \u001b[39mis\u001b[39;00m \u001b[39mNone\u001b[39;00m \u001b[39mand\u001b[39;00m orient \u001b[39m!=\u001b[39m \u001b[39m\"\u001b[39m\u001b[39mtable\u001b[39m\u001b[39m\"\u001b[39m:\n\u001b[1;32m    731\u001b[0m     convert_axes \u001b[39m=\u001b[39m \u001b[39mTrue\u001b[39;00m\n\u001b[0;32m--> 733\u001b[0m json_reader \u001b[39m=\u001b[39m JsonReader(\n\u001b[1;32m    734\u001b[0m     path_or_buf,\n\u001b[1;32m    735\u001b[0m     orient\u001b[39m=\u001b[39;49morient,\n\u001b[1;32m    736\u001b[0m     typ\u001b[39m=\u001b[39;49mtyp,\n\u001b[1;32m    737\u001b[0m     dtype\u001b[39m=\u001b[39;49mdtype,\n\u001b[1;32m    738\u001b[0m     convert_axes\u001b[39m=\u001b[39;49mconvert_axes,\n\u001b[1;32m    739\u001b[0m     convert_dates\u001b[39m=\u001b[39;49mconvert_dates,\n\u001b[1;32m    740\u001b[0m     keep_default_dates\u001b[39m=\u001b[39;49mkeep_default_dates,\n\u001b[1;32m    741\u001b[0m     numpy\u001b[39m=\u001b[39;49mnumpy,\n\u001b[1;32m    742\u001b[0m     precise_float\u001b[39m=\u001b[39;49mprecise_float,\n\u001b[1;32m    743\u001b[0m     date_unit\u001b[39m=\u001b[39;49mdate_unit,\n\u001b[1;32m    744\u001b[0m     encoding\u001b[39m=\u001b[39;49mencoding,\n\u001b[1;32m    745\u001b[0m     lines\u001b[39m=\u001b[39;49mlines,\n\u001b[1;32m    746\u001b[0m     chunksize\u001b[39m=\u001b[39;49mchunksize,\n\u001b[1;32m    747\u001b[0m     compression\u001b[39m=\u001b[39;49mcompression,\n\u001b[1;32m    748\u001b[0m     nrows\u001b[39m=\u001b[39;49mnrows,\n\u001b[1;32m    749\u001b[0m     storage_options\u001b[39m=\u001b[39;49mstorage_options,\n\u001b[1;32m    750\u001b[0m     encoding_errors\u001b[39m=\u001b[39;49mencoding_errors,\n\u001b[1;32m    751\u001b[0m )\n\u001b[1;32m    753\u001b[0m \u001b[39mif\u001b[39;00m chunksize:\n\u001b[1;32m    754\u001b[0m     \u001b[39mreturn\u001b[39;00m json_reader\n",
      "File \u001b[0;32m~/spotify_airflow/venv/lib/python3.8/site-packages/pandas/io/json/_json.py:818\u001b[0m, in \u001b[0;36mJsonReader.__init__\u001b[0;34m(self, filepath_or_buffer, orient, typ, dtype, convert_axes, convert_dates, keep_default_dates, numpy, precise_float, date_unit, encoding, lines, chunksize, compression, nrows, storage_options, encoding_errors)\u001b[0m\n\u001b[1;32m    815\u001b[0m     \u001b[39mif\u001b[39;00m \u001b[39mnot\u001b[39;00m \u001b[39mself\u001b[39m\u001b[39m.\u001b[39mlines:\n\u001b[1;32m    816\u001b[0m         \u001b[39mraise\u001b[39;00m \u001b[39mValueError\u001b[39;00m(\u001b[39m\"\u001b[39m\u001b[39mnrows can only be passed if lines=True\u001b[39m\u001b[39m\"\u001b[39m)\n\u001b[0;32m--> 818\u001b[0m data \u001b[39m=\u001b[39m \u001b[39mself\u001b[39;49m\u001b[39m.\u001b[39;49m_get_data_from_filepath(filepath_or_buffer)\n\u001b[1;32m    819\u001b[0m \u001b[39mself\u001b[39m\u001b[39m.\u001b[39mdata \u001b[39m=\u001b[39m \u001b[39mself\u001b[39m\u001b[39m.\u001b[39m_preprocess_data(data)\n",
      "File \u001b[0;32m~/spotify_airflow/venv/lib/python3.8/site-packages/pandas/io/json/_json.py:858\u001b[0m, in \u001b[0;36mJsonReader._get_data_from_filepath\u001b[0;34m(self, filepath_or_buffer)\u001b[0m\n\u001b[1;32m    851\u001b[0m filepath_or_buffer \u001b[39m=\u001b[39m stringify_path(filepath_or_buffer)\n\u001b[1;32m    852\u001b[0m \u001b[39mif\u001b[39;00m (\n\u001b[1;32m    853\u001b[0m     \u001b[39mnot\u001b[39;00m \u001b[39misinstance\u001b[39m(filepath_or_buffer, \u001b[39mstr\u001b[39m)\n\u001b[1;32m    854\u001b[0m     \u001b[39mor\u001b[39;00m is_url(filepath_or_buffer)\n\u001b[1;32m    855\u001b[0m     \u001b[39mor\u001b[39;00m is_fsspec_url(filepath_or_buffer)\n\u001b[1;32m    856\u001b[0m     \u001b[39mor\u001b[39;00m file_exists(filepath_or_buffer)\n\u001b[1;32m    857\u001b[0m ):\n\u001b[0;32m--> 858\u001b[0m     \u001b[39mself\u001b[39m\u001b[39m.\u001b[39mhandles \u001b[39m=\u001b[39m get_handle(\n\u001b[1;32m    859\u001b[0m         filepath_or_buffer,\n\u001b[1;32m    860\u001b[0m         \u001b[39m\"\u001b[39;49m\u001b[39mr\u001b[39;49m\u001b[39m\"\u001b[39;49m,\n\u001b[1;32m    861\u001b[0m         encoding\u001b[39m=\u001b[39;49m\u001b[39mself\u001b[39;49m\u001b[39m.\u001b[39;49mencoding,\n\u001b[1;32m    862\u001b[0m         compression\u001b[39m=\u001b[39;49m\u001b[39mself\u001b[39;49m\u001b[39m.\u001b[39;49mcompression,\n\u001b[1;32m    863\u001b[0m         storage_options\u001b[39m=\u001b[39;49m\u001b[39mself\u001b[39;49m\u001b[39m.\u001b[39;49mstorage_options,\n\u001b[1;32m    864\u001b[0m         errors\u001b[39m=\u001b[39;49m\u001b[39mself\u001b[39;49m\u001b[39m.\u001b[39;49mencoding_errors,\n\u001b[1;32m    865\u001b[0m     )\n\u001b[1;32m    866\u001b[0m     filepath_or_buffer \u001b[39m=\u001b[39m \u001b[39mself\u001b[39m\u001b[39m.\u001b[39mhandles\u001b[39m.\u001b[39mhandle\n\u001b[1;32m    867\u001b[0m \u001b[39melif\u001b[39;00m (\n\u001b[1;32m    868\u001b[0m     \u001b[39misinstance\u001b[39m(filepath_or_buffer, \u001b[39mstr\u001b[39m)\n\u001b[1;32m    869\u001b[0m     \u001b[39mand\u001b[39;00m filepath_or_buffer\u001b[39m.\u001b[39mlower()\u001b[39m.\u001b[39mendswith(\n\u001b[0;32m   (...)\u001b[0m\n\u001b[1;32m    872\u001b[0m     \u001b[39mand\u001b[39;00m \u001b[39mnot\u001b[39;00m file_exists(filepath_or_buffer)\n\u001b[1;32m    873\u001b[0m ):\n",
      "File \u001b[0;32m~/spotify_airflow/venv/lib/python3.8/site-packages/pandas/io/common.py:714\u001b[0m, in \u001b[0;36mget_handle\u001b[0;34m(path_or_buf, mode, encoding, compression, memory_map, is_text, errors, storage_options)\u001b[0m\n\u001b[1;32m    711\u001b[0m     codecs\u001b[39m.\u001b[39mlookup_error(errors)\n\u001b[1;32m    713\u001b[0m \u001b[39m# open URLs\u001b[39;00m\n\u001b[0;32m--> 714\u001b[0m ioargs \u001b[39m=\u001b[39m _get_filepath_or_buffer(\n\u001b[1;32m    715\u001b[0m     path_or_buf,\n\u001b[1;32m    716\u001b[0m     encoding\u001b[39m=\u001b[39;49mencoding,\n\u001b[1;32m    717\u001b[0m     compression\u001b[39m=\u001b[39;49mcompression,\n\u001b[1;32m    718\u001b[0m     mode\u001b[39m=\u001b[39;49mmode,\n\u001b[1;32m    719\u001b[0m     storage_options\u001b[39m=\u001b[39;49mstorage_options,\n\u001b[1;32m    720\u001b[0m )\n\u001b[1;32m    722\u001b[0m handle \u001b[39m=\u001b[39m ioargs\u001b[39m.\u001b[39mfilepath_or_buffer\n\u001b[1;32m    723\u001b[0m handles: \u001b[39mlist\u001b[39m[BaseBuffer]\n",
      "File \u001b[0;32m~/spotify_airflow/venv/lib/python3.8/site-packages/pandas/io/common.py:452\u001b[0m, in \u001b[0;36m_get_filepath_or_buffer\u001b[0;34m(filepath_or_buffer, encoding, compression, mode, storage_options)\u001b[0m\n\u001b[1;32m    448\u001b[0m \u001b[39mif\u001b[39;00m \u001b[39mnot\u001b[39;00m (\n\u001b[1;32m    449\u001b[0m     \u001b[39mhasattr\u001b[39m(filepath_or_buffer, \u001b[39m\"\u001b[39m\u001b[39mread\u001b[39m\u001b[39m\"\u001b[39m) \u001b[39mor\u001b[39;00m \u001b[39mhasattr\u001b[39m(filepath_or_buffer, \u001b[39m\"\u001b[39m\u001b[39mwrite\u001b[39m\u001b[39m\"\u001b[39m)\n\u001b[1;32m    450\u001b[0m ):\n\u001b[1;32m    451\u001b[0m     msg \u001b[39m=\u001b[39m \u001b[39mf\u001b[39m\u001b[39m\"\u001b[39m\u001b[39mInvalid file path or buffer object type: \u001b[39m\u001b[39m{\u001b[39;00m\u001b[39mtype\u001b[39m(filepath_or_buffer)\u001b[39m}\u001b[39;00m\u001b[39m\"\u001b[39m\n\u001b[0;32m--> 452\u001b[0m     \u001b[39mraise\u001b[39;00m \u001b[39mValueError\u001b[39;00m(msg)\n\u001b[1;32m    454\u001b[0m \u001b[39mreturn\u001b[39;00m IOArgs(\n\u001b[1;32m    455\u001b[0m     filepath_or_buffer\u001b[39m=\u001b[39mfilepath_or_buffer,\n\u001b[1;32m    456\u001b[0m     encoding\u001b[39m=\u001b[39mencoding,\n\u001b[0;32m   (...)\u001b[0m\n\u001b[1;32m    459\u001b[0m     mode\u001b[39m=\u001b[39mmode,\n\u001b[1;32m    460\u001b[0m )\n",
      "\u001b[0;31mValueError\u001b[0m: Invalid file path or buffer object type: <class 'bool'>"
     ]
    }
   ],
   "source": [
    "songs_table = pd.read_json(songs_json)\n"
   ]
  },
  {
   "cell_type": "code",
   "execution_count": 22,
   "metadata": {},
   "outputs": [
    {
     "data": {
      "text/html": [
       "<div>\n",
       "<style scoped>\n",
       "    .dataframe tbody tr th:only-of-type {\n",
       "        vertical-align: middle;\n",
       "    }\n",
       "\n",
       "    .dataframe tbody tr th {\n",
       "        vertical-align: top;\n",
       "    }\n",
       "\n",
       "    .dataframe thead th {\n",
       "        text-align: right;\n",
       "    }\n",
       "</style>\n",
       "<table border=\"1\" class=\"dataframe\">\n",
       "  <thead>\n",
       "    <tr style=\"text-align: right;\">\n",
       "      <th></th>\n",
       "      <th>played_at_list</th>\n",
       "      <th>timestamps</th>\n",
       "      <th>artist_name</th>\n",
       "      <th>song_names</th>\n",
       "    </tr>\n",
       "  </thead>\n",
       "  <tbody>\n",
       "    <tr>\n",
       "      <th>0</th>\n",
       "      <td>2022-11-05T16:19:09.682Z</td>\n",
       "      <td>2022-11-05</td>\n",
       "      <td>Tori Kelly</td>\n",
       "      <td>O Holy Night</td>\n",
       "    </tr>\n",
       "    <tr>\n",
       "      <th>1</th>\n",
       "      <td>2022-11-05T16:16:02.791Z</td>\n",
       "      <td>2022-11-05</td>\n",
       "      <td>Tori Kelly</td>\n",
       "      <td>25th</td>\n",
       "    </tr>\n",
       "    <tr>\n",
       "      <th>2</th>\n",
       "      <td>2022-11-05T16:05:57.209Z</td>\n",
       "      <td>2022-11-05</td>\n",
       "      <td>Tori Kelly</td>\n",
       "      <td>Funny - Live</td>\n",
       "    </tr>\n",
       "    <tr>\n",
       "      <th>3</th>\n",
       "      <td>2022-11-05T16:01:40.007Z</td>\n",
       "      <td>2022-11-05</td>\n",
       "      <td>Tori Kelly</td>\n",
       "      <td>Talk</td>\n",
       "    </tr>\n",
       "    <tr>\n",
       "      <th>4</th>\n",
       "      <td>2022-11-05T11:16:42.138Z</td>\n",
       "      <td>2022-11-05</td>\n",
       "      <td>Tori Kelly</td>\n",
       "      <td>Talk</td>\n",
       "    </tr>\n",
       "    <tr>\n",
       "      <th>5</th>\n",
       "      <td>2022-11-05T11:16:04.516Z</td>\n",
       "      <td>2022-11-05</td>\n",
       "      <td>Tori Kelly</td>\n",
       "      <td>The Lie</td>\n",
       "    </tr>\n",
       "    <tr>\n",
       "      <th>6</th>\n",
       "      <td>2022-11-05T11:13:25.278Z</td>\n",
       "      <td>2022-11-05</td>\n",
       "      <td>Tori Kelly</td>\n",
       "      <td>Confetti (Remastered)</td>\n",
       "    </tr>\n",
       "    <tr>\n",
       "      <th>7</th>\n",
       "      <td>2022-11-05T11:10:38.985Z</td>\n",
       "      <td>2022-11-05</td>\n",
       "      <td>Tori Kelly</td>\n",
       "      <td>Confetti (Remastered)</td>\n",
       "    </tr>\n",
       "    <tr>\n",
       "      <th>8</th>\n",
       "      <td>2022-11-05T11:07:26.184Z</td>\n",
       "      <td>2022-11-05</td>\n",
       "      <td>Tori Kelly</td>\n",
       "      <td>Psalm 42</td>\n",
       "    </tr>\n",
       "    <tr>\n",
       "      <th>9</th>\n",
       "      <td>2022-11-05T07:57:06.897Z</td>\n",
       "      <td>2022-11-05</td>\n",
       "      <td>Tori Kelly</td>\n",
       "      <td>City Dove</td>\n",
       "    </tr>\n",
       "    <tr>\n",
       "      <th>10</th>\n",
       "      <td>2022-11-05T07:53:23.183Z</td>\n",
       "      <td>2022-11-05</td>\n",
       "      <td>Tori Kelly</td>\n",
       "      <td>Until I Think Of You</td>\n",
       "    </tr>\n",
       "    <tr>\n",
       "      <th>11</th>\n",
       "      <td>2022-11-05T07:50:45.894Z</td>\n",
       "      <td>2022-11-05</td>\n",
       "      <td>Tori Kelly</td>\n",
       "      <td>What Happens Next - From The Original Televisi...</td>\n",
       "    </tr>\n",
       "    <tr>\n",
       "      <th>12</th>\n",
       "      <td>2022-11-05T07:47:42.965Z</td>\n",
       "      <td>2022-11-05</td>\n",
       "      <td>Tori Kelly</td>\n",
       "      <td>Angels We Have Heard On High - Recorded At Ele...</td>\n",
       "    </tr>\n",
       "    <tr>\n",
       "      <th>13</th>\n",
       "      <td>2022-11-05T07:44:42.962Z</td>\n",
       "      <td>2022-11-05</td>\n",
       "      <td>Tori Kelly</td>\n",
       "      <td>Sleigh Ride</td>\n",
       "    </tr>\n",
       "    <tr>\n",
       "      <th>14</th>\n",
       "      <td>2022-11-05T07:41:38.052Z</td>\n",
       "      <td>2022-11-05</td>\n",
       "      <td>Dan + Shay</td>\n",
       "      <td>Speechless (feat. Tori Kelly)</td>\n",
       "    </tr>\n",
       "    <tr>\n",
       "      <th>15</th>\n",
       "      <td>2022-11-05T07:38:08.162Z</td>\n",
       "      <td>2022-11-05</td>\n",
       "      <td>Tori Kelly</td>\n",
       "      <td>Glad</td>\n",
       "    </tr>\n",
       "    <tr>\n",
       "      <th>16</th>\n",
       "      <td>2022-11-05T07:35:36.577Z</td>\n",
       "      <td>2022-11-05</td>\n",
       "      <td>Chris Lane</td>\n",
       "      <td>Take Back Home Girl (feat. Tori Kelly)</td>\n",
       "    </tr>\n",
       "    <tr>\n",
       "      <th>17</th>\n",
       "      <td>2022-11-05T07:32:04.465Z</td>\n",
       "      <td>2022-11-05</td>\n",
       "      <td>Brasstracks</td>\n",
       "      <td>Still Life</td>\n",
       "    </tr>\n",
       "    <tr>\n",
       "      <th>18</th>\n",
       "      <td>2022-11-05T07:28:16.610Z</td>\n",
       "      <td>2022-11-05</td>\n",
       "      <td>ILLENIUM</td>\n",
       "      <td>Blame Myself</td>\n",
       "    </tr>\n",
       "    <tr>\n",
       "      <th>19</th>\n",
       "      <td>2022-11-05T07:24:25.519Z</td>\n",
       "      <td>2022-11-05</td>\n",
       "      <td>Brasstracks</td>\n",
       "      <td>Still Life</td>\n",
       "    </tr>\n",
       "    <tr>\n",
       "      <th>20</th>\n",
       "      <td>2022-11-05T07:21:12.723Z</td>\n",
       "      <td>2022-11-05</td>\n",
       "      <td>Tori Kelly</td>\n",
       "      <td>What Happens Next - From The Original Televisi...</td>\n",
       "    </tr>\n",
       "    <tr>\n",
       "      <th>21</th>\n",
       "      <td>2022-11-05T07:17:20.990Z</td>\n",
       "      <td>2022-11-05</td>\n",
       "      <td>Taron Egerton</td>\n",
       "      <td>There's Nothing Holdin' Me Back (with Tori Kelly)</td>\n",
       "    </tr>\n",
       "  </tbody>\n",
       "</table>\n",
       "</div>"
      ],
      "text/plain": [
       "              played_at_list timestamps    artist_name  \\\n",
       "0   2022-11-05T16:19:09.682Z 2022-11-05     Tori Kelly   \n",
       "1   2022-11-05T16:16:02.791Z 2022-11-05     Tori Kelly   \n",
       "2   2022-11-05T16:05:57.209Z 2022-11-05     Tori Kelly   \n",
       "3   2022-11-05T16:01:40.007Z 2022-11-05     Tori Kelly   \n",
       "4   2022-11-05T11:16:42.138Z 2022-11-05     Tori Kelly   \n",
       "5   2022-11-05T11:16:04.516Z 2022-11-05     Tori Kelly   \n",
       "6   2022-11-05T11:13:25.278Z 2022-11-05     Tori Kelly   \n",
       "7   2022-11-05T11:10:38.985Z 2022-11-05     Tori Kelly   \n",
       "8   2022-11-05T11:07:26.184Z 2022-11-05     Tori Kelly   \n",
       "9   2022-11-05T07:57:06.897Z 2022-11-05     Tori Kelly   \n",
       "10  2022-11-05T07:53:23.183Z 2022-11-05     Tori Kelly   \n",
       "11  2022-11-05T07:50:45.894Z 2022-11-05     Tori Kelly   \n",
       "12  2022-11-05T07:47:42.965Z 2022-11-05     Tori Kelly   \n",
       "13  2022-11-05T07:44:42.962Z 2022-11-05     Tori Kelly   \n",
       "14  2022-11-05T07:41:38.052Z 2022-11-05     Dan + Shay   \n",
       "15  2022-11-05T07:38:08.162Z 2022-11-05     Tori Kelly   \n",
       "16  2022-11-05T07:35:36.577Z 2022-11-05     Chris Lane   \n",
       "17  2022-11-05T07:32:04.465Z 2022-11-05    Brasstracks   \n",
       "18  2022-11-05T07:28:16.610Z 2022-11-05       ILLENIUM   \n",
       "19  2022-11-05T07:24:25.519Z 2022-11-05    Brasstracks   \n",
       "20  2022-11-05T07:21:12.723Z 2022-11-05     Tori Kelly   \n",
       "21  2022-11-05T07:17:20.990Z 2022-11-05  Taron Egerton   \n",
       "\n",
       "                                           song_names  \n",
       "0                                        O Holy Night  \n",
       "1                                                25th  \n",
       "2                                        Funny - Live  \n",
       "3                                                Talk  \n",
       "4                                                Talk  \n",
       "5                                             The Lie  \n",
       "6                               Confetti (Remastered)  \n",
       "7                               Confetti (Remastered)  \n",
       "8                                            Psalm 42  \n",
       "9                                           City Dove  \n",
       "10                               Until I Think Of You  \n",
       "11  What Happens Next - From The Original Televisi...  \n",
       "12  Angels We Have Heard On High - Recorded At Ele...  \n",
       "13                                        Sleigh Ride  \n",
       "14                      Speechless (feat. Tori Kelly)  \n",
       "15                                               Glad  \n",
       "16             Take Back Home Girl (feat. Tori Kelly)  \n",
       "17                                         Still Life  \n",
       "18                                       Blame Myself  \n",
       "19                                         Still Life  \n",
       "20  What Happens Next - From The Original Televisi...  \n",
       "21  There's Nothing Holdin' Me Back (with Tori Kelly)  "
      ]
     },
     "execution_count": 22,
     "metadata": {},
     "output_type": "execute_result"
    }
   ],
   "source": [
    "songs_table"
   ]
  },
  {
   "cell_type": "code",
   "execution_count": 70,
   "metadata": {},
   "outputs": [
    {
     "name": "stdout",
     "output_type": "stream",
     "text": [
      "Opened database successfully\n"
     ]
    }
   ],
   "source": [
    "engine = sqlalchemy.create_engine(DB_LOCATION)\n",
    "# conn = sqlite3.connect('james_played_tracks.sqlite')\n",
    "# cursor = conn.cursor()            \n",
    "sql_query = \"\"\"\n",
    "CREATE TABLE IF NOT EXISTS james_played_tracks(\n",
    "    played_at_list VARCHAR(200), \n",
    "    timestamps VARCHAR(200),\n",
    "    artist_name VARCHAR(200), \n",
    "    song_names VARCHAR(200),\n",
    "    CONSTRAINT primary_key_constraint PRIMARY KEY (played_at_list)\n",
    ")\n",
    "\"\"\"\n",
    "engine.execute(sql_query)\n",
    "print(\"Opened database successfully\")  "
   ]
  }
 ],
 "metadata": {
  "kernelspec": {
   "display_name": "Python 3.8.10 ('venv': venv)",
   "language": "python",
   "name": "python3"
  },
  "language_info": {
   "codemirror_mode": {
    "name": "ipython",
    "version": 3
   },
   "file_extension": ".py",
   "mimetype": "text/x-python",
   "name": "python",
   "nbconvert_exporter": "python",
   "pygments_lexer": "ipython3",
   "version": "3.8.10"
  },
  "orig_nbformat": 4,
  "vscode": {
   "interpreter": {
    "hash": "417ff29bdd00584a603e2a955f08cb81d3565c6841cb622f843a4f8ff8e3563b"
   }
  }
 },
 "nbformat": 4,
 "nbformat_minor": 2
}
