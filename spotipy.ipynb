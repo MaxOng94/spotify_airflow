{
 "cells": [
  {
   "cell_type": "code",
   "execution_count": 69,
   "metadata": {},
   "outputs": [],
   "source": [
    "import spotipy\n",
    "import pandas as pd\n",
    "from spotipy.oauth2 import SpotifyOAuth\n",
    "import datetime \n",
    "import time\n"
   ]
  },
  {
   "cell_type": "markdown",
   "metadata": {},
   "source": [
    "## Spotipy documentation: \n",
    "\n",
    "https://spotipy.readthedocs.io/en/master/#"
   ]
  },
  {
   "cell_type": "code",
   "execution_count": 70,
   "metadata": {},
   "outputs": [],
   "source": [
    "client_id = 'bf76bf609f1a4be6b656c55e4d77abd4'\n",
    "client_secret = '8949a39342a74eddb3405b7a4f747852'"
   ]
  },
  {
   "cell_type": "code",
   "execution_count": 71,
   "metadata": {},
   "outputs": [],
   "source": [
    "redirect_uri = 'https://localhost:8888/callback/'\n",
    "scope= \"user-read-recently-played\""
   ]
  },
  {
   "cell_type": "code",
   "execution_count": 72,
   "metadata": {},
   "outputs": [],
   "source": [
    "today = datetime.datetime.now()\n",
    "# because everyday we want to see the songs we've listed to for the \n",
    "# previous 24 hrs\n",
    "yesterday = today - datetime.timedelta(days =1)\n",
    "# unix timestamp in miliseconds, that's why need to * 1000\n",
    "yesterday_unix_timestamp = int(yesterday.timestamp()) * 1000"
   ]
  },
  {
   "cell_type": "code",
   "execution_count": 73,
   "metadata": {},
   "outputs": [],
   "source": [
    "nextmonth = today + datetime.timedelta(days =30)\n",
    "# unix timestamp in miliseconds, that's why need to * 1000\n",
    "nextmonth_unix_timestamp = int(nextmonth.timestamp()) * 1000"
   ]
  },
  {
   "cell_type": "markdown",
   "metadata": {},
   "source": [
    "## Following this stackoverflow to auto refresh the token \n",
    "\n",
    "https://stackoverflow.com/questions/48883731/refresh-token-spotipy#:~:text=So%20it%20will%20be%20refreshed,access%20token%20%2F%20refresh%20token%20previously."
   ]
  },
  {
   "cell_type": "code",
   "execution_count": 83,
   "metadata": {},
   "outputs": [],
   "source": [
    "def create_spotify():\n",
    "    auth_manager=SpotifyOAuth(scope=scope,\n",
    "                                client_id =client_id ,\n",
    "                                client_secret = client_secret,\n",
    "                                redirect_uri = redirect_uri)\n",
    "    spotify = spotipy.Spotify(auth_manager=auth_manager,requests_timeout=30 )\n",
    "    return auth_manager,spotify"
   ]
  },
  {
   "cell_type": "code",
   "execution_count": 84,
   "metadata": {},
   "outputs": [],
   "source": [
    "def refresh_spotify(auth_manager, spotify):\n",
    "    token_info = auth_manager.cache_handler.get_cached_token()\n",
    "    if auth_manager.is_token_expired(token_info):\n",
    "        auth_manager, spotify = create_spotify()\n",
    "    return auth_manager, spotify"
   ]
  },
  {
   "cell_type": "code",
   "execution_count": null,
   "metadata": {},
   "outputs": [],
   "source": [
    "auth_manager, spotify = create_spotify()\n"
   ]
  },
  {
   "cell_type": "code",
   "execution_count": null,
   "metadata": {},
   "outputs": [],
   "source": [
    "auth_manager, spotify = refresh_spotify(auth_manager, spotify)\n"
   ]
  },
  {
   "cell_type": "code",
   "execution_count": null,
   "metadata": {},
   "outputs": [],
   "source": [
    "token_info = auth_manager.cache_handler.get_cached_token()\n"
   ]
  },
  {
   "cell_type": "code",
   "execution_count": 90,
   "metadata": {},
   "outputs": [],
   "source": [
    "data = spotify.current_user_recently_played(after =yesterday_unix_timestamp)\n"
   ]
  },
  {
   "cell_type": "code",
   "execution_count": 92,
   "metadata": {},
   "outputs": [],
   "source": [
    "while True: \n",
    "    empty = []\n",
    "    auth_manager, spotify = refresh_spotify(auth_manager, spotify)\n",
    "    data = spotify.current_user_recently_played(after =yesterday_unix_timestamp)\n",
    "    if data['items'] != []:\n",
    "        empty.append(data['items'][0]['track'])\n",
    "        break \n",
    "    else:\n",
    "        print('Nothing is playing.')\n",
    "\n",
    "    # time.sleep(30)"
   ]
  },
  {
   "cell_type": "code",
   "execution_count": 15,
   "metadata": {},
   "outputs": [],
   "source": [
    "artist_name = []\n",
    "song_names = []\n",
    "played_at_list = []\n",
    "timestamps = []\n",
    "\n",
    "for i in data['items']:\n",
    "    song_names.append(i['track']['name'])\n",
    "    played_at_list.append(i['played_at'])\n",
    "    timestamps.append(i['played_at'][:10])\n",
    "    artist_name.append(i['track']['artists'][0]['name'])\n",
    "\n",
    "song_df = pd.DataFrame([played_at_list,timestamps,artist_name,song_names]).T\n",
    "song_df.columns = ['played_at_list','timestamps','artist_name','song_names']"
   ]
  },
  {
   "cell_type": "code",
   "execution_count": 16,
   "metadata": {},
   "outputs": [
    {
     "data": {
      "text/html": [
       "<div>\n",
       "<style scoped>\n",
       "    .dataframe tbody tr th:only-of-type {\n",
       "        vertical-align: middle;\n",
       "    }\n",
       "\n",
       "    .dataframe tbody tr th {\n",
       "        vertical-align: top;\n",
       "    }\n",
       "\n",
       "    .dataframe thead th {\n",
       "        text-align: right;\n",
       "    }\n",
       "</style>\n",
       "<table border=\"1\" class=\"dataframe\">\n",
       "  <thead>\n",
       "    <tr style=\"text-align: right;\">\n",
       "      <th></th>\n",
       "      <th>played_at_list</th>\n",
       "      <th>timestamps</th>\n",
       "      <th>artist_name</th>\n",
       "      <th>song_names</th>\n",
       "    </tr>\n",
       "  </thead>\n",
       "  <tbody>\n",
       "    <tr>\n",
       "      <th>0</th>\n",
       "      <td>2022-10-15T01:00:51.534Z</td>\n",
       "      <td>2022-10-15</td>\n",
       "      <td>Oatmello</td>\n",
       "      <td>Community</td>\n",
       "    </tr>\n",
       "    <tr>\n",
       "      <th>1</th>\n",
       "      <td>2022-10-15T00:59:20.369Z</td>\n",
       "      <td>2022-10-15</td>\n",
       "      <td>Vincent Rayn</td>\n",
       "      <td>Garden</td>\n",
       "    </tr>\n",
       "    <tr>\n",
       "      <th>2</th>\n",
       "      <td>2022-10-15T00:57:45.142Z</td>\n",
       "      <td>2022-10-15</td>\n",
       "      <td>kyoshi</td>\n",
       "      <td>balcony</td>\n",
       "    </tr>\n",
       "    <tr>\n",
       "      <th>3</th>\n",
       "      <td>2022-10-15T00:55:49.691Z</td>\n",
       "      <td>2022-10-15</td>\n",
       "      <td>Moonspatz</td>\n",
       "      <td>A Man Who Believed in Dreams</td>\n",
       "    </tr>\n",
       "    <tr>\n",
       "      <th>4</th>\n",
       "      <td>2022-10-15T00:54:15.290Z</td>\n",
       "      <td>2022-10-15</td>\n",
       "      <td>Saiko</td>\n",
       "      <td>Second Chance</td>\n",
       "    </tr>\n",
       "    <tr>\n",
       "      <th>5</th>\n",
       "      <td>2022-10-15T00:52:22.560Z</td>\n",
       "      <td>2022-10-15</td>\n",
       "      <td>Oaty.</td>\n",
       "      <td>Concrete Jungle</td>\n",
       "    </tr>\n",
       "    <tr>\n",
       "      <th>6</th>\n",
       "      <td>2022-10-15T00:50:35.572Z</td>\n",
       "      <td>2022-10-15</td>\n",
       "      <td>Mike Gusavo</td>\n",
       "      <td>More Than This</td>\n",
       "    </tr>\n",
       "    <tr>\n",
       "      <th>7</th>\n",
       "      <td>2022-10-15T00:48:27.725Z</td>\n",
       "      <td>2022-10-15</td>\n",
       "      <td>Ramsey Road</td>\n",
       "      <td>Relax Still</td>\n",
       "    </tr>\n",
       "    <tr>\n",
       "      <th>8</th>\n",
       "      <td>2022-10-15T00:45:49.838Z</td>\n",
       "      <td>2022-10-15</td>\n",
       "      <td>SōNE</td>\n",
       "      <td>Halfway There</td>\n",
       "    </tr>\n",
       "    <tr>\n",
       "      <th>9</th>\n",
       "      <td>2022-10-15T00:43:56.325Z</td>\n",
       "      <td>2022-10-15</td>\n",
       "      <td>Sepalot</td>\n",
       "      <td>Dream Chaser</td>\n",
       "    </tr>\n",
       "    <tr>\n",
       "      <th>10</th>\n",
       "      <td>2022-10-15T00:42:37.451Z</td>\n",
       "      <td>2022-10-15</td>\n",
       "      <td>Prigida</td>\n",
       "      <td>Jelly</td>\n",
       "    </tr>\n",
       "    <tr>\n",
       "      <th>11</th>\n",
       "      <td>2022-10-15T00:40:23.407Z</td>\n",
       "      <td>2022-10-15</td>\n",
       "      <td>Moderator</td>\n",
       "      <td>Rainmaker</td>\n",
       "    </tr>\n",
       "    <tr>\n",
       "      <th>12</th>\n",
       "      <td>2022-10-15T00:37:25.879Z</td>\n",
       "      <td>2022-10-15</td>\n",
       "      <td>Gold Coast Microscopes</td>\n",
       "      <td>Poolside</td>\n",
       "    </tr>\n",
       "    <tr>\n",
       "      <th>13</th>\n",
       "      <td>2022-10-15T00:36:00.716Z</td>\n",
       "      <td>2022-10-15</td>\n",
       "      <td>Miso Colt</td>\n",
       "      <td>Elevator Rendezvous</td>\n",
       "    </tr>\n",
       "    <tr>\n",
       "      <th>14</th>\n",
       "      <td>2022-10-15T00:33:04.280Z</td>\n",
       "      <td>2022-10-15</td>\n",
       "      <td>Sto Nii</td>\n",
       "      <td>love Downpitch</td>\n",
       "    </tr>\n",
       "    <tr>\n",
       "      <th>15</th>\n",
       "      <td>2022-10-15T00:31:19.906Z</td>\n",
       "      <td>2022-10-15</td>\n",
       "      <td>yosev</td>\n",
       "      <td>Saguaro</td>\n",
       "    </tr>\n",
       "    <tr>\n",
       "      <th>16</th>\n",
       "      <td>2022-10-15T00:29:20.353Z</td>\n",
       "      <td>2022-10-15</td>\n",
       "      <td>eau n!ce</td>\n",
       "      <td>The Tides</td>\n",
       "    </tr>\n",
       "  </tbody>\n",
       "</table>\n",
       "</div>"
      ],
      "text/plain": [
       "              played_at_list  timestamps             artist_name  \\\n",
       "0   2022-10-15T01:00:51.534Z  2022-10-15                Oatmello   \n",
       "1   2022-10-15T00:59:20.369Z  2022-10-15            Vincent Rayn   \n",
       "2   2022-10-15T00:57:45.142Z  2022-10-15                  kyoshi   \n",
       "3   2022-10-15T00:55:49.691Z  2022-10-15               Moonspatz   \n",
       "4   2022-10-15T00:54:15.290Z  2022-10-15                   Saiko   \n",
       "5   2022-10-15T00:52:22.560Z  2022-10-15                   Oaty.   \n",
       "6   2022-10-15T00:50:35.572Z  2022-10-15             Mike Gusavo   \n",
       "7   2022-10-15T00:48:27.725Z  2022-10-15             Ramsey Road   \n",
       "8   2022-10-15T00:45:49.838Z  2022-10-15                    SōNE   \n",
       "9   2022-10-15T00:43:56.325Z  2022-10-15                 Sepalot   \n",
       "10  2022-10-15T00:42:37.451Z  2022-10-15                 Prigida   \n",
       "11  2022-10-15T00:40:23.407Z  2022-10-15               Moderator   \n",
       "12  2022-10-15T00:37:25.879Z  2022-10-15  Gold Coast Microscopes   \n",
       "13  2022-10-15T00:36:00.716Z  2022-10-15               Miso Colt   \n",
       "14  2022-10-15T00:33:04.280Z  2022-10-15                 Sto Nii   \n",
       "15  2022-10-15T00:31:19.906Z  2022-10-15                   yosev   \n",
       "16  2022-10-15T00:29:20.353Z  2022-10-15                eau n!ce   \n",
       "\n",
       "                      song_names  \n",
       "0                      Community  \n",
       "1                         Garden  \n",
       "2                        balcony  \n",
       "3   A Man Who Believed in Dreams  \n",
       "4                  Second Chance  \n",
       "5                Concrete Jungle  \n",
       "6                 More Than This  \n",
       "7                    Relax Still  \n",
       "8                  Halfway There  \n",
       "9                   Dream Chaser  \n",
       "10                         Jelly  \n",
       "11                     Rainmaker  \n",
       "12                      Poolside  \n",
       "13           Elevator Rendezvous  \n",
       "14                love Downpitch  \n",
       "15                       Saguaro  \n",
       "16                     The Tides  "
      ]
     },
     "execution_count": 16,
     "metadata": {},
     "output_type": "execute_result"
    }
   ],
   "source": [
    "song_df"
   ]
  }
 ],
 "metadata": {
  "kernelspec": {
   "display_name": "Python 3.8.10 ('venv': venv)",
   "language": "python",
   "name": "python3"
  },
  "language_info": {
   "codemirror_mode": {
    "name": "ipython",
    "version": 3
   },
   "file_extension": ".py",
   "mimetype": "text/x-python",
   "name": "python",
   "nbconvert_exporter": "python",
   "pygments_lexer": "ipython3",
   "version": "3.8.10"
  },
  "orig_nbformat": 4,
  "vscode": {
   "interpreter": {
    "hash": "417ff29bdd00584a603e2a955f08cb81d3565c6841cb622f843a4f8ff8e3563b"
   }
  }
 },
 "nbformat": 4,
 "nbformat_minor": 2
}
